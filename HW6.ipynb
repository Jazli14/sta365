{
  "nbformat": 4,
  "nbformat_minor": 0,
  "metadata": {
    "colab": {
      "provenance": []
    },
    "kernelspec": {
      "name": "python3",
      "display_name": "Python 3"
    },
    "language_info": {
      "name": "python"
    }
  },
  "cells": [
    {
      "cell_type": "code",
      "execution_count": null,
      "metadata": {
        "id": "R-WX0tIaPioA"
      },
      "outputs": [],
      "source": [
        "import numpy as np\n",
        "import pandas as pd\n",
        "import pymc as pm\n",
        "import scipy.stats as stats"
      ]
    },
    {
      "cell_type": "code",
      "source": [
        "df = pd.read_csv('https://raw.githubusercontent.com/Jazli14/sta365/main/nfl_standings.csv')\n",
        "\n",
        "\n",
        "df['playoffs'].replace('Playoffs', 1, inplace=True)\n",
        "df['playoffs'].replace('No Playoffs', 0, inplace=True)\n",
        "\n",
        "X = df[['wins']]\n",
        "\n",
        "y = df[['playoffs']]\n",
        "\n",
        "with pm.Model() as model:\n",
        "    # Standard normal priors for unknown beta parameters\n",
        "    b0 = pm.Normal('b0', mu=0, sigma=1)\n",
        "    b1 = pm.Normal('b1', mu=0, sigma=1)\n",
        "\n",
        "    # Expected value of outcome\n",
        "    mu = b0 + b1*X\n",
        "\n",
        "    # Bernoulli distribution with logit function\n",
        "    Y_obs = pm.Bernoulli('Y_obs',logit_p=mu, observed=y)\n",
        "\n",
        "with model:\n",
        "    idata = pm.sample()\n"
      ],
      "metadata": {
        "id": "LHg0HaGhTd2E",
        "outputId": "29eccc13-d689-489b-eaa4-1e5f7cb763af",
        "colab": {
          "base_uri": "https://localhost:8080/",
          "height": 57
        }
      },
      "execution_count": 6,
      "outputs": [
        {
          "output_type": "display_data",
          "data": {
            "text/plain": [
              "<IPython.core.display.HTML object>"
            ],
            "text/html": [
              "\n",
              "<style>\n",
              "    /* Turns off some styling */\n",
              "    progress {\n",
              "        /* gets rid of default border in Firefox and Opera. */\n",
              "        border: none;\n",
              "        /* Needs to be in here for Safari polyfill so background images work as expected. */\n",
              "        background-size: auto;\n",
              "    }\n",
              "    progress:not([value]), progress:not([value])::-webkit-progress-bar {\n",
              "        background: repeating-linear-gradient(45deg, #7e7e7e, #7e7e7e 10px, #5c5c5c 10px, #5c5c5c 20px);\n",
              "    }\n",
              "    .progress-bar-interrupted, .progress-bar-interrupted::-webkit-progress-bar {\n",
              "        background: #F44336;\n",
              "    }\n",
              "</style>\n"
            ]
          },
          "metadata": {}
        },
        {
          "output_type": "display_data",
          "data": {
            "text/plain": [
              "<IPython.core.display.HTML object>"
            ],
            "text/html": [
              "\n",
              "    <div>\n",
              "      <progress value='2000' class='' max='2000' style='width:300px; height:20px; vertical-align: middle;'></progress>\n",
              "      100.00% [2000/2000 00:05&lt;00:00 Sampling chain 0, 0 divergences]\n",
              "    </div>\n",
              "    "
            ]
          },
          "metadata": {}
        },
        {
          "output_type": "display_data",
          "data": {
            "text/plain": [
              "<IPython.core.display.HTML object>"
            ],
            "text/html": [
              "\n",
              "<style>\n",
              "    /* Turns off some styling */\n",
              "    progress {\n",
              "        /* gets rid of default border in Firefox and Opera. */\n",
              "        border: none;\n",
              "        /* Needs to be in here for Safari polyfill so background images work as expected. */\n",
              "        background-size: auto;\n",
              "    }\n",
              "    progress:not([value]), progress:not([value])::-webkit-progress-bar {\n",
              "        background: repeating-linear-gradient(45deg, #7e7e7e, #7e7e7e 10px, #5c5c5c 10px, #5c5c5c 20px);\n",
              "    }\n",
              "    .progress-bar-interrupted, .progress-bar-interrupted::-webkit-progress-bar {\n",
              "        background: #F44336;\n",
              "    }\n",
              "</style>\n"
            ]
          },
          "metadata": {}
        },
        {
          "output_type": "display_data",
          "data": {
            "text/plain": [
              "<IPython.core.display.HTML object>"
            ],
            "text/html": [
              "\n",
              "    <div>\n",
              "      <progress value='2000' class='' max='2000' style='width:300px; height:20px; vertical-align: middle;'></progress>\n",
              "      100.00% [2000/2000 00:05&lt;00:00 Sampling chain 1, 0 divergences]\n",
              "    </div>\n",
              "    "
            ]
          },
          "metadata": {}
        }
      ]
    },
    {
      "cell_type": "markdown",
      "source": [
        "# Part 2"
      ],
      "metadata": {
        "id": "JrpvdcEkg4Lm"
      }
    },
    {
      "cell_type": "markdown",
      "source": [
        "## Ridge Regression\n",
        "\n",
        "$$\n",
        "\\text{Posterior} \\propto \\text{Prior} \\times \\text{Likelihood}\n",
        "$$\n",
        "\n",
        "$$\n",
        "\\Rightarrow \\prod_{i=1}^{n} \\frac{1}{\\sqrt{2\\pi}}e^{\\frac{-1}{2}(\\frac{\\beta_i}{s_i})^2} \\prod_{i=1}^n \\frac{1}{\\sqrt{2\\pi}} e^{\\frac{-1}{2}(y_k - x_k^{\\top}\\beta)^2}\n",
        "$$\n",
        "\n",
        "\n",
        "$$\n",
        "= (\\frac{1}{2\\pi})^n \\prod_{i=1}^{n} e^{\\frac{-1}{2}(\\frac{\\beta_i}{s_i})^2} \\prod e^{\\frac{-1}{2} (y_k - x_k^{\\top}\\beta)^2}\n",
        "$$\n",
        "\n",
        "$$\\text{Apply log to the equation}$$\n",
        "\n",
        "$$\n",
        "\\propto \\sum_{i=1}^n \\log{[e^{\\frac{-1}{2}(\\frac{\\beta_i}{s_i})^2}]} + \\sum_{i=1}^n \\log(e^{\\frac{-1}{2}(y_k - x_k^{\\top}\\beta)^2})\n",
        "$$\n",
        "\n",
        "$$\n",
        "\\propto \\sum_{i=1}^n -\\frac{1}{2}(\\frac{1}{s_i})^2 \\beta_i^2 + \\sum_{i=1}^n -\\frac{1}{2} (y_k-x_k^\\top\\beta)^2\n",
        "$$\n",
        "\n",
        "$$\n",
        "\\propto - \\sum_{k = 1} \\frac{1}{2}(y_k -x_k^\\top\\beta)^2 - \\frac{1}{2} \\sum_{i=1}^n (\\frac{1}{s_i})^2 \\beta_i^2\n",
        "$$\n",
        "$$\\text{This term resembles} \\sum_{k=1}^n \\frac{1}{2}(y_k-x_k^\\top\\beta)^2 + \\lambda\\sum_{i=1}^{n}\\beta_i^2\n",
        "$$\n",
        "$$\\text{As we treat } \\big(\\frac{1}{s_i}\\big)^2 \\text{ to be equal to } \\lambda$$\n"
      ],
      "metadata": {
        "id": "aNsr1qJ_xIWW"
      }
    },
    {
      "cell_type": "markdown",
      "source": [
        "## Lasso Regression\n",
        "\n",
        "$$\n",
        "\\text{Posterior} \\propto \\text{Prior} \\times \\text{Likelihood}\n",
        "$$\n",
        "\n",
        "$$\n",
        "\\Rightarrow \\prod_{i=1}^{n} \\frac{1}{2s_i}e^{\\frac{-1}{2}(\\frac{|\\beta_i|}{s_i})^2} \\prod_{k=1}^n \\frac{1}{\\sqrt{2\\pi}} e^{\\frac{-1}{2}(y_k - x_k^{\\top}\\beta)^2}\n",
        "$$\n",
        "\n",
        "$$\n",
        "\\propto \\sum_{i=1}^n \\log\\big({\\frac{1}{2s_i}e^\\frac{-|\\beta_i|}{s_i}}\\big) + \\sum_{k=1}^n \\log(\\frac{1}{\\sqrt{2\\pi}} e^{\\frac{-1}{2}(y_k - x_k^{\\top}\\beta)^2})\n",
        "$$\n",
        "\n",
        "$$\n",
        "\\propto \\sum_{i=1}^n [\\log(\\frac{1}{2s_i}) + \\frac{-|\\beta_i|}{s_i}]+ \\sum_{k=1}^{n} [\\log(\\frac{1}{\\sqrt{2\\pi}}) -\\frac{1}{2}(y_k-x_i^\\top\\beta)^2]\n",
        "$$\n",
        "\n",
        "$$\n",
        "\\sum_{k=1}^n \\log(\\frac{1}{2s_i} + \\sum_{i=1}^n -\\frac{|\\beta_i|}{s_i} - \\sum_{k=1}^n \\frac{1}{2} (y_k - x_k^\\top\\beta)^2\n",
        "$$\n",
        "\n",
        "\n",
        "$$\\text{This term now resembles} \\sum_{k=1}^n \\frac{1}{2}(y_k-x_k^\\top\\beta)^2 + \\lambda\\sum_{i=1}^{n}|\\beta_i|\n",
        "$$\n",
        "$$\\text{As the term } -\\frac{1}{s_i}\\text{ is equal to }\\lambda\n",
        "$$"
      ],
      "metadata": {
        "id": "Ar4K7ImoxGJZ"
      }
    },
    {
      "cell_type": "markdown",
      "source": [
        "## Explain \"Bayesians do not optimize posterior distributions, they sample from them; but, the posterior distributions are nonetheless 'regularizations' of the likelihood through the prior.\"\n",
        "\n",
        "In Bayesian statistics, the emphasis lies in estimating the complete posterior distribution of parameters based on observed data, rather than solely seeking a single point estimate as in frequentist statistics.\n",
        "\n",
        "The posterior distribution encompasses both the likelihood (data) and the prior, being proportional to their multiplication. The regularization effect allows for the management of the prior's influence on the posterior. By tuning the parameter $\\lambda$, we can control the extent to which the prior shapes the posterior distribution."
      ],
      "metadata": {
        "id": "_m9k9yIb8xFh"
      }
    }
  ]
}
